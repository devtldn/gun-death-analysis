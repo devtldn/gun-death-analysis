{
 "cells": [
  {
   "cell_type": "markdown",
   "metadata": {},
   "source": [
    "## <font color=dodgerblue>U.S. Gun Deaths Analysis (y. 2012-2014)</font>\n",
    "\n",
    "**Abstract**\n",
    "<br>\n",
    "In this analysis, I am utilizing a dataset from _FiveThirtyEight_ that records gun deaths in the U.S. between the years 2012 and 2014."
   ]
  },
  {
   "cell_type": "code",
   "execution_count": 1,
   "metadata": {
    "collapsed": false
   },
   "outputs": [
    {
     "name": "stdout",
     "output_type": "stream",
     "text": [
      "[['', 'year', 'month', 'intent', 'police', 'sex', 'age', 'race', 'hispanic', 'place', 'education'], ['1', '2012', '01', 'Suicide', '0', 'M', '34', 'Asian/Pacific Islander', '100', 'Home', '4'], ['2', '2012', '01', 'Suicide', '0', 'F', '21', 'White', '100', 'Street', '3'], ['3', '2012', '01', 'Suicide', '0', 'M', '60', 'White', '100', 'Other specified', '4'], ['4', '2012', '02', 'Suicide', '0', 'M', '64', 'White', '100', 'Home', '4']]\n"
     ]
    }
   ],
   "source": [
    "import csv\n",
    "\n",
    "f = open('guns.csv')\n",
    "csvreader = csv.reader(f)\n",
    "data = list(csvreader)\n",
    "print(data[:5])"
   ]
  },
  {
   "cell_type": "code",
   "execution_count": 2,
   "metadata": {
    "collapsed": false
   },
   "outputs": [
    {
     "name": "stdout",
     "output_type": "stream",
     "text": [
      "[['1', '2012', '01', 'Suicide', '0', 'M', '34', 'Asian/Pacific Islander', '100', 'Home', '4'], ['2', '2012', '01', 'Suicide', '0', 'F', '21', 'White', '100', 'Street', '3'], ['3', '2012', '01', 'Suicide', '0', 'M', '60', 'White', '100', 'Other specified', '4'], ['4', '2012', '02', 'Suicide', '0', 'M', '64', 'White', '100', 'Home', '4'], ['5', '2012', '02', 'Suicide', '0', 'M', '31', 'White', '100', 'Other specified', '2']]\n"
     ]
    }
   ],
   "source": [
    "data = data[1:]\n",
    "print(data[:5])"
   ]
  },
  {
   "cell_type": "code",
   "execution_count": 3,
   "metadata": {
    "collapsed": false
   },
   "outputs": [
    {
     "name": "stdout",
     "output_type": "stream",
     "text": [
      "['2012', '2012', '2012', '2012', '2012']\n"
     ]
    }
   ],
   "source": [
    "years = [col[1] for col in data]\n",
    "print(years[:5])"
   ]
  },
  {
   "cell_type": "code",
   "execution_count": 4,
   "metadata": {
    "collapsed": false
   },
   "outputs": [
    {
     "name": "stdout",
     "output_type": "stream",
     "text": [
      "{'2012': 33563, '2013': 33636, '2014': 33599}\n"
     ]
    }
   ],
   "source": [
    "year_counts = {}\n",
    "\n",
    "for year in years:\n",
    "    if year not in year_counts:\n",
    "        year_counts[year] = 1\n",
    "    else:\n",
    "        year_counts[year] += 1\n",
    "        \n",
    "print(year_counts)"
   ]
  },
  {
   "cell_type": "code",
   "execution_count": 5,
   "metadata": {
    "collapsed": false
   },
   "outputs": [
    {
     "name": "stdout",
     "output_type": "stream",
     "text": [
      "[datetime.datetime(2012, 1, 1, 0, 0), datetime.datetime(2012, 1, 1, 0, 0), datetime.datetime(2012, 1, 1, 0, 0), datetime.datetime(2012, 2, 1, 0, 0), datetime.datetime(2012, 2, 1, 0, 0)]\n"
     ]
    }
   ],
   "source": [
    "import datetime\n",
    "\n",
    "dates = [datetime.datetime(year=int(col[1]), month=int(col[2]), day=1) for col in data]\n",
    "\n",
    "print(dates[:5])\n"
   ]
  },
  {
   "cell_type": "code",
   "execution_count": 6,
   "metadata": {
    "collapsed": false
   },
   "outputs": [
    {
     "name": "stdout",
     "output_type": "stream",
     "text": [
      "{datetime.datetime(2014, 5, 1, 0, 0): 2864, datetime.datetime(2013, 9, 1, 0, 0): 2742, datetime.datetime(2014, 3, 1, 0, 0): 2684, datetime.datetime(2013, 4, 1, 0, 0): 2798, datetime.datetime(2012, 11, 1, 0, 0): 2729, datetime.datetime(2013, 8, 1, 0, 0): 2859, datetime.datetime(2013, 10, 1, 0, 0): 2808, datetime.datetime(2014, 7, 1, 0, 0): 2884, datetime.datetime(2012, 10, 1, 0, 0): 2733, datetime.datetime(2014, 12, 1, 0, 0): 2857, datetime.datetime(2013, 1, 1, 0, 0): 2864, datetime.datetime(2014, 11, 1, 0, 0): 2756, datetime.datetime(2012, 3, 1, 0, 0): 2743, datetime.datetime(2013, 11, 1, 0, 0): 2758, datetime.datetime(2012, 1, 1, 0, 0): 2758, datetime.datetime(2012, 9, 1, 0, 0): 2852, datetime.datetime(2014, 6, 1, 0, 0): 2931, datetime.datetime(2014, 4, 1, 0, 0): 2862, datetime.datetime(2014, 10, 1, 0, 0): 2865, datetime.datetime(2014, 8, 1, 0, 0): 2970, datetime.datetime(2014, 2, 1, 0, 0): 2361, datetime.datetime(2013, 2, 1, 0, 0): 2375, datetime.datetime(2012, 8, 1, 0, 0): 2954, datetime.datetime(2012, 4, 1, 0, 0): 2795, datetime.datetime(2012, 2, 1, 0, 0): 2357, datetime.datetime(2014, 9, 1, 0, 0): 2914, datetime.datetime(2013, 6, 1, 0, 0): 2920, datetime.datetime(2012, 7, 1, 0, 0): 3026, datetime.datetime(2013, 3, 1, 0, 0): 2862, datetime.datetime(2012, 6, 1, 0, 0): 2826, datetime.datetime(2012, 12, 1, 0, 0): 2791, datetime.datetime(2012, 5, 1, 0, 0): 2999, datetime.datetime(2013, 12, 1, 0, 0): 2765, datetime.datetime(2013, 7, 1, 0, 0): 3079, datetime.datetime(2014, 1, 1, 0, 0): 2651, datetime.datetime(2013, 5, 1, 0, 0): 2806}\n"
     ]
    }
   ],
   "source": [
    "date_counts = {}\n",
    "\n",
    "for date in dates:\n",
    "    if date not in date_counts:\n",
    "        date_counts[date] = 1\n",
    "    else:\n",
    "        date_counts[date] += 1\n",
    "        \n",
    "print(date_counts)"
   ]
  },
  {
   "cell_type": "code",
   "execution_count": 7,
   "metadata": {
    "collapsed": false
   },
   "outputs": [
    {
     "name": "stdout",
     "output_type": "stream",
     "text": [
      "{'F': 14449, 'M': 86349}\n"
     ]
    }
   ],
   "source": [
    "sexes = [col[5] for col in data]\n",
    "sex_counts = {}\n",
    "\n",
    "for sex in sexes:\n",
    "    if sex not in sex_counts:\n",
    "        sex_counts[sex] = 1\n",
    "    else:\n",
    "        sex_counts[sex] += 1\n",
    "        \n",
    "print(sex_counts)"
   ]
  },
  {
   "cell_type": "code",
   "execution_count": 8,
   "metadata": {
    "collapsed": false
   },
   "outputs": [
    {
     "name": "stdout",
     "output_type": "stream",
     "text": [
      "{'Native American/Native Alaskan': 917, 'White': 66237, 'Black': 23296, 'Asian/Pacific Islander': 1326, 'Hispanic': 9022}\n"
     ]
    }
   ],
   "source": [
    "races = [col[7] for col in data]\n",
    "race_counts = {}\n",
    "\n",
    "for race in races:\n",
    "    if race not in race_counts:\n",
    "        race_counts[race] = 1\n",
    "    else:\n",
    "        race_counts[race] += 1\n",
    "        \n",
    "print(race_counts)"
   ]
  },
  {
   "cell_type": "code",
   "execution_count": 9,
   "metadata": {
    "collapsed": false
   },
   "outputs": [
    {
     "name": "stdout",
     "output_type": "stream",
     "text": [
      "[['cen42010', 'April 1, 2010 Census', 'totsex', 'Both Sexes', 'tothisp', 'Total', '0100000US', '', 'United States', '308745538', '197318956', '44618105', '40250635', '3739506', '15159516', '674625', '6984195']]\n"
     ]
    }
   ],
   "source": [
    "j = open('census.csv')\n",
    "csvreader1 = csv.reader(j)\n",
    "census = list(csvreader1)\n",
    "census = census[1:]\n",
    "print(census)"
   ]
  },
  {
   "cell_type": "code",
   "execution_count": 10,
   "metadata": {
    "collapsed": false
   },
   "outputs": [
    {
     "name": "stdout",
     "output_type": "stream",
     "text": [
      "{'Native American/Native Alaskan': 15159516, 'White': 44618105, 'Black': 3739506, 'Asian/Pacific Islander': 6984195, 'Hispanic': 40250635}\n"
     ]
    }
   ],
   "source": [
    "mapping = {\n",
    "    'Asian/Pacific Islander' : int(census[0][16]),\n",
    "    'Black' : int(census[0][13]),\n",
    "    'Native American/Native Alaskan' : int(census[0][14]),\n",
    "    'Hispanic' : int(census[0][12]),\n",
    "    'White' : int(census[0][11])\n",
    "}\n",
    "\n",
    "print(mapping)"
   ]
  },
  {
   "cell_type": "code",
   "execution_count": 11,
   "metadata": {
    "collapsed": false
   },
   "outputs": [
    {
     "name": "stdout",
     "output_type": "stream",
     "text": [
      "{'Native American/Native Alaskan': 2.27822, 'White': 164.56138, 'Black': 57.87735, 'Asian/Pacific Islander': 3.29436, 'Hispanic': 22.41455}\n"
     ]
    }
   ],
   "source": [
    "race_per_hundredk = {}\n",
    "\n",
    "for race in race_counts:\n",
    "    val = race_counts[race]\n",
    "    \n",
    "    for mapp in mapping:\n",
    "        rate = round(((val / mapping[mapp]) * 100000), 5)\n",
    "        race_per_hundredk[race] = rate\n",
    "        \n",
    "print(race_per_hundredk)"
   ]
  },
  {
   "cell_type": "code",
   "execution_count": 12,
   "metadata": {
    "collapsed": false
   },
   "outputs": [],
   "source": [
    "months = [col[2] for col in data]\n",
    "intents = [col[3] for col in data]\n",
    "genders = [col[5] for col in data]\n",
    "races = [col[7] for col in data]\n",
    "\n",
    "homicide_race_counts = {}\n",
    "homicide_race_rates = {}\n",
    "\n",
    "homicide_month_counts = {}\n",
    "homicide_month_rates = {}\n",
    "\n",
    "homicide_gender_counts = {}\n",
    "homicide_gender_rates = {}\n",
    "\n",
    "accidental_gender_counts = {}\n",
    "accidental_gender_rates = {}\n",
    "\n",
    "accidental_race_counts = {}\n",
    "accidental_race_rates = {}\n",
    "\n",
    "suicide_gender_counts = {}\n",
    "suicide_gender_rates = {}\n",
    "\n",
    "suicide_race_counts = {}\n",
    "suicide_race_rates = {}\n",
    "\n",
    "\n",
    "def count_rate(g_dict, i_list, intent, counts_dict, rates_dict, m_dict):\n",
    "    for i, gender in enumerate(g_dict):\n",
    "        if i_list[i] == intent:\n",
    "            if gender not in counts_dict:\n",
    "                counts_dict[gender] = 1\n",
    "            else:\n",
    "                counts_dict[gender] += 1\n",
    "                \n",
    "    for gender, count in counts_dict.items():\n",
    "        for eth in m_dict:\n",
    "            rate = round(((count / m_dict[eth]) * 100000), 5)\n",
    "            rates_dict[gender] = rate\n",
    "    \n",
    "    return counts_dict, rates_dict\n",
    "\n",
    "hr = count_rate(races, intents, 'Homicide', homicide_race_counts, homicide_race_rates, mapping)\n",
    "hm = count_rate(months, intents, 'Homicide', homicide_month_counts, homicide_month_rates, mapping)\n",
    "hg = count_rate(genders, intents, 'Homicide', homicide_gender_counts, homicide_gender_rates, mapping)\n",
    "ag = count_rate(genders, intents, 'Accidental', accidental_gender_counts, accidental_gender_rates, mapping)\n",
    "ar = count_rate(races, intents, 'Accidental', accidental_race_counts, accidental_race_rates, mapping)\n",
    "sg = count_rate(genders, intents, 'Suicide', suicide_gender_counts, suicide_gender_rates, mapping)\n",
    "sr = count_rate(races, intents, 'Suicide', suicide_race_counts, suicide_race_rates, mapping)"
   ]
  },
  {
   "cell_type": "code",
   "execution_count": 13,
   "metadata": {
    "collapsed": false
   },
   "outputs": [
    {
     "data": {
      "text/plain": [
       "({'Asian/Pacific Islander': 559,\n",
       "  'Black': 19510,\n",
       "  'Hispanic': 5634,\n",
       "  'Native American/Native Alaskan': 326,\n",
       "  'White': 9147},\n",
       " {'Asian/Pacific Islander': 1.3888,\n",
       "  'Black': 48.47128,\n",
       "  'Hispanic': 13.99729,\n",
       "  'Native American/Native Alaskan': 0.80993,\n",
       "  'White': 22.72511})"
      ]
     },
     "execution_count": 13,
     "metadata": {},
     "output_type": "execute_result"
    }
   ],
   "source": [
    "hr"
   ]
  },
  {
   "cell_type": "code",
   "execution_count": 14,
   "metadata": {
    "collapsed": false
   },
   "outputs": [
    {
     "data": {
      "text/plain": [
       "({'01': 2829,\n",
       "  '02': 2178,\n",
       "  '03': 2780,\n",
       "  '04': 2845,\n",
       "  '05': 2976,\n",
       "  '06': 3130,\n",
       "  '07': 3269,\n",
       "  '08': 3125,\n",
       "  '09': 2966,\n",
       "  '10': 2968,\n",
       "  '11': 2919,\n",
       "  '12': 3191},\n",
       " {'01': 7.02846,\n",
       "  '02': 5.41109,\n",
       "  '03': 6.90672,\n",
       "  '04': 7.06821,\n",
       "  '05': 7.39367,\n",
       "  '06': 7.77627,\n",
       "  '07': 8.12161,\n",
       "  '08': 7.76385,\n",
       "  '09': 7.36883,\n",
       "  '10': 7.3738,\n",
       "  '11': 7.25206,\n",
       "  '12': 7.92783})"
      ]
     },
     "execution_count": 14,
     "metadata": {},
     "output_type": "execute_result"
    }
   ],
   "source": [
    "hm"
   ]
  },
  {
   "cell_type": "code",
   "execution_count": 15,
   "metadata": {
    "collapsed": false
   },
   "outputs": [
    {
     "data": {
      "text/plain": [
       "({'F': 5373, 'M': 29803}, {'F': 13.34886, 'M': 74.04355})"
      ]
     },
     "execution_count": 15,
     "metadata": {},
     "output_type": "execute_result"
    }
   ],
   "source": [
    "hg"
   ]
  },
  {
   "cell_type": "code",
   "execution_count": 16,
   "metadata": {
    "collapsed": false
   },
   "outputs": [
    {
     "data": {
      "text/plain": [
       "({'F': 218, 'M': 1421}, {'F': 0.54161, 'M': 3.53038})"
      ]
     },
     "execution_count": 16,
     "metadata": {},
     "output_type": "execute_result"
    }
   ],
   "source": [
    "ag"
   ]
  },
  {
   "cell_type": "code",
   "execution_count": 17,
   "metadata": {
    "collapsed": false
   },
   "outputs": [
    {
     "data": {
      "text/plain": [
       "({'Asian/Pacific Islander': 12,\n",
       "  'Black': 328,\n",
       "  'Hispanic': 145,\n",
       "  'Native American/Native Alaskan': 22,\n",
       "  'White': 1132},\n",
       " {'Asian/Pacific Islander': 0.02981,\n",
       "  'Black': 0.81489,\n",
       "  'Hispanic': 0.36024,\n",
       "  'Native American/Native Alaskan': 0.05466,\n",
       "  'White': 2.81238})"
      ]
     },
     "execution_count": 17,
     "metadata": {},
     "output_type": "execute_result"
    }
   ],
   "source": [
    "ar"
   ]
  },
  {
   "cell_type": "code",
   "execution_count": 18,
   "metadata": {
    "collapsed": false
   },
   "outputs": [
    {
     "data": {
      "text/plain": [
       "({'F': 8689, 'M': 54486}, {'F': 21.58724, 'M': 135.36681})"
      ]
     },
     "execution_count": 18,
     "metadata": {},
     "output_type": "execute_result"
    }
   ],
   "source": [
    "sg"
   ]
  },
  {
   "cell_type": "code",
   "execution_count": 19,
   "metadata": {
    "collapsed": false
   },
   "outputs": [
    {
     "data": {
      "text/plain": [
       "({'Asian/Pacific Islander': 745,\n",
       "  'Black': 3332,\n",
       "  'Hispanic': 3171,\n",
       "  'Native American/Native Alaskan': 555,\n",
       "  'White': 55372},\n",
       " {'Asian/Pacific Islander': 1.8509,\n",
       "  'Black': 8.27813,\n",
       "  'Hispanic': 7.87814,\n",
       "  'Native American/Native Alaskan': 1.37886,\n",
       "  'White': 137.56802})"
      ]
     },
     "execution_count": 19,
     "metadata": {},
     "output_type": "execute_result"
    }
   ],
   "source": [
    "sr"
   ]
  },
  {
   "cell_type": "code",
   "execution_count": 22,
   "metadata": {
    "collapsed": false
   },
   "outputs": [],
   "source": [
    "locations = [col[9] for col in data]\n",
    "education = [col[10] for col in data]\n",
    "\n",
    "counts_by_location = {}\n",
    "rates_by_location = {}\n",
    "\n",
    "counts_by_education = {}\n",
    "rates_by_education = {}\n",
    "\n",
    "def morecountrate(input_list, counts_dict, mapping_dict, rates_dict):\n",
    "    for value in input_list:\n",
    "        if value not in counts_dict:\n",
    "            counts_dict[value] = 1\n",
    "        else:\n",
    "            counts_dict[value] += 1\n",
    "            \n",
    "    for place, count in counts_dict.items():\n",
    "        for eth in mapping_dict:\n",
    "            rate = round(((count / mapping_dict[eth]) * 100000), 5)\n",
    "            rates_dict[place] = rate\n",
    "        \n",
    "    return counts_dict, rates_dict\n",
    "\n",
    "cbl = morecountrate(locations, counts_by_location, mapping, rates_by_location)\n",
    "cbe = morecountrate(education, counts_by_education, mapping, rates_by_education)"
   ]
  },
  {
   "cell_type": "code",
   "execution_count": 23,
   "metadata": {
    "collapsed": false
   },
   "outputs": [
    {
     "data": {
      "text/plain": [
       "({'Farm': 470,\n",
       "  'Home': 60486,\n",
       "  'Industrial/construction': 248,\n",
       "  'NA': 1384,\n",
       "  'Other specified': 13751,\n",
       "  'Other unspecified': 8867,\n",
       "  'Residential institution': 203,\n",
       "  'School/instiution': 671,\n",
       "  'Sports': 128,\n",
       "  'Street': 11151,\n",
       "  'Trade/service area': 3439},\n",
       " {'Farm': 1.16768,\n",
       "  'Home': 150.27341,\n",
       "  'Industrial/construction': 0.61614,\n",
       "  'NA': 3.43846,\n",
       "  'Other specified': 34.16344,\n",
       "  'Other unspecified': 22.02947,\n",
       "  'Residential institution': 0.50434,\n",
       "  'School/instiution': 1.66705,\n",
       "  'Sports': 0.31801,\n",
       "  'Street': 27.70391,\n",
       "  'Trade/service area': 8.54396})"
      ]
     },
     "execution_count": 23,
     "metadata": {},
     "output_type": "execute_result"
    }
   ],
   "source": [
    "cbl"
   ]
  },
  {
   "cell_type": "code",
   "execution_count": 24,
   "metadata": {
    "collapsed": false
   },
   "outputs": [
    {
     "data": {
      "text/plain": [
       "({'1': 21823, '2': 42927, '3': 21680, '4': 12946, '5': 1369, 'NA': 53},\n",
       " {'1': 54.21778,\n",
       "  '2': 106.64925,\n",
       "  '3': 53.8625,\n",
       "  '4': 32.16347,\n",
       "  '5': 3.40119,\n",
       "  'NA': 0.13167})"
      ]
     },
     "execution_count": 24,
     "metadata": {},
     "output_type": "execute_result"
    }
   ],
   "source": [
    "cbe"
   ]
  },
  {
   "cell_type": "code",
   "execution_count": null,
   "metadata": {
    "collapsed": true
   },
   "outputs": [],
   "source": []
  }
 ],
 "metadata": {
  "kernelspec": {
   "display_name": "Python 3",
   "language": "python",
   "name": "python3"
  },
  "language_info": {
   "codemirror_mode": {
    "name": "ipython",
    "version": 3
   },
   "file_extension": ".py",
   "mimetype": "text/x-python",
   "name": "python",
   "nbconvert_exporter": "python",
   "pygments_lexer": "ipython3",
   "version": "3.4.3"
  }
 },
 "nbformat": 4,
 "nbformat_minor": 0
}
