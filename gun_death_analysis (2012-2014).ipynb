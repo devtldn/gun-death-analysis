{
 "cells": [
  {
   "cell_type": "markdown",
   "metadata": {},
   "source": [
    "## <font color=dodgerblue>U.S. Gun Deaths Analysis (y. 2012-2014)</font>\n",
    "\n",
    "**Abstract**\n",
    "<br>\n",
    "In this analysis, I am utilizing a dataset from _FiveThirtyEight_ that records gun deaths in the U.S. between the years 2012 and 2014."
   ]
  },
  {
   "cell_type": "code",
   "execution_count": 1,
   "metadata": {
    "collapsed": false
   },
   "outputs": [
    {
     "name": "stdout",
     "output_type": "stream",
     "text": [
      "[['', 'year', 'month', 'intent', 'police', 'sex', 'age', 'race', 'hispanic', 'place', 'education'], ['1', '2012', '01', 'Suicide', '0', 'M', '34', 'Asian/Pacific Islander', '100', 'Home', '4'], ['2', '2012', '01', 'Suicide', '0', 'F', '21', 'White', '100', 'Street', '3'], ['3', '2012', '01', 'Suicide', '0', 'M', '60', 'White', '100', 'Other specified', '4'], ['4', '2012', '02', 'Suicide', '0', 'M', '64', 'White', '100', 'Home', '4']]\n"
     ]
    }
   ],
   "source": [
    "# Using guns.csv\n",
    "\n",
    "import csv\n",
    "\n",
    "f = open('guns.csv')\n",
    "csvreader = csv.reader(f)\n",
    "data = list(csvreader)\n",
    "\n",
    "print(data[:5])"
   ]
  },
  {
   "cell_type": "code",
   "execution_count": 2,
   "metadata": {
    "collapsed": false
   },
   "outputs": [
    {
     "name": "stdout",
     "output_type": "stream",
     "text": [
      "[['1', '2012', '01', 'Suicide', '0', 'M', '34', 'Asian/Pacific Islander', '100', 'Home', '4'], ['2', '2012', '01', 'Suicide', '0', 'F', '21', 'White', '100', 'Street', '3'], ['3', '2012', '01', 'Suicide', '0', 'M', '60', 'White', '100', 'Other specified', '4'], ['4', '2012', '02', 'Suicide', '0', 'M', '64', 'White', '100', 'Home', '4'], ['5', '2012', '02', 'Suicide', '0', 'M', '31', 'White', '100', 'Other specified', '2']]\n"
     ]
    }
   ],
   "source": [
    "data = data[1:]\n",
    "\n",
    "print(data[:5])"
   ]
  },
  {
   "cell_type": "code",
   "execution_count": 3,
   "metadata": {
    "collapsed": false
   },
   "outputs": [
    {
     "name": "stdout",
     "output_type": "stream",
     "text": [
      "['2012', '2012', '2012', '2012', '2012']\n"
     ]
    }
   ],
   "source": [
    "# List comprehension for 'year' column\n",
    "\n",
    "years = [col[1] for col in data]\n",
    "\n",
    "print(years[:5])"
   ]
  },
  {
   "cell_type": "code",
   "execution_count": 4,
   "metadata": {
    "collapsed": false
   },
   "outputs": [
    {
     "name": "stdout",
     "output_type": "stream",
     "text": [
      "{'2014': 33599, '2012': 33563, '2013': 33636}\n"
     ]
    }
   ],
   "source": [
    "# Counting instances of each year\n",
    "\n",
    "year_counts = {}\n",
    "\n",
    "for year in years:\n",
    "    if year not in year_counts:\n",
    "        year_counts[year] = 1\n",
    "    else:\n",
    "        year_counts[year] += 1\n",
    "        \n",
    "print(year_counts)"
   ]
  },
  {
   "cell_type": "code",
   "execution_count": 5,
   "metadata": {
    "collapsed": false
   },
   "outputs": [
    {
     "name": "stdout",
     "output_type": "stream",
     "text": [
      "[datetime.datetime(2012, 1, 1, 0, 0), datetime.datetime(2012, 1, 1, 0, 0), datetime.datetime(2012, 1, 1, 0, 0), datetime.datetime(2012, 2, 1, 0, 0), datetime.datetime(2012, 2, 1, 0, 0)]\n"
     ]
    }
   ],
   "source": [
    "# Constructing datetime instance using 'year' and 'month' column\n",
    "\n",
    "import datetime\n",
    "\n",
    "dates = [datetime.datetime(year=int(col[1]), month=int(col[2]), day=1) for col in data]\n",
    "\n",
    "print(dates[:5])\n"
   ]
  },
  {
   "cell_type": "code",
   "execution_count": 6,
   "metadata": {
    "collapsed": false
   },
   "outputs": [
    {
     "name": "stdout",
     "output_type": "stream",
     "text": [
      "{datetime.datetime(2013, 2, 1, 0, 0): 2375, datetime.datetime(2013, 12, 1, 0, 0): 2765, datetime.datetime(2014, 12, 1, 0, 0): 2857, datetime.datetime(2013, 11, 1, 0, 0): 2758, datetime.datetime(2014, 2, 1, 0, 0): 2361, datetime.datetime(2014, 1, 1, 0, 0): 2651, datetime.datetime(2013, 5, 1, 0, 0): 2806, datetime.datetime(2014, 3, 1, 0, 0): 2684, datetime.datetime(2013, 9, 1, 0, 0): 2742, datetime.datetime(2012, 7, 1, 0, 0): 3026, datetime.datetime(2014, 6, 1, 0, 0): 2931, datetime.datetime(2012, 5, 1, 0, 0): 2999, datetime.datetime(2012, 11, 1, 0, 0): 2729, datetime.datetime(2012, 2, 1, 0, 0): 2357, datetime.datetime(2014, 8, 1, 0, 0): 2970, datetime.datetime(2013, 8, 1, 0, 0): 2859, datetime.datetime(2012, 6, 1, 0, 0): 2826, datetime.datetime(2014, 5, 1, 0, 0): 2864, datetime.datetime(2013, 6, 1, 0, 0): 2920, datetime.datetime(2012, 1, 1, 0, 0): 2758, datetime.datetime(2012, 3, 1, 0, 0): 2743, datetime.datetime(2013, 7, 1, 0, 0): 3079, datetime.datetime(2013, 10, 1, 0, 0): 2808, datetime.datetime(2013, 4, 1, 0, 0): 2798, datetime.datetime(2014, 7, 1, 0, 0): 2884, datetime.datetime(2012, 12, 1, 0, 0): 2791, datetime.datetime(2014, 11, 1, 0, 0): 2756, datetime.datetime(2014, 4, 1, 0, 0): 2862, datetime.datetime(2013, 3, 1, 0, 0): 2862, datetime.datetime(2014, 10, 1, 0, 0): 2865, datetime.datetime(2012, 9, 1, 0, 0): 2852, datetime.datetime(2013, 1, 1, 0, 0): 2864, datetime.datetime(2012, 10, 1, 0, 0): 2733, datetime.datetime(2012, 4, 1, 0, 0): 2795, datetime.datetime(2014, 9, 1, 0, 0): 2914, datetime.datetime(2012, 8, 1, 0, 0): 2954}\n"
     ]
    }
   ],
   "source": [
    "# Counting date occurrences using dates\n",
    "\n",
    "date_counts = {}\n",
    "\n",
    "for date in dates:\n",
    "    if date not in date_counts:\n",
    "        date_counts[date] = 1\n",
    "    else:\n",
    "        date_counts[date] += 1\n",
    "        \n",
    "print(date_counts)"
   ]
  },
  {
   "cell_type": "code",
   "execution_count": 7,
   "metadata": {
    "collapsed": false
   },
   "outputs": [
    {
     "name": "stdout",
     "output_type": "stream",
     "text": [
      "{'F': 14449, 'M': 86349}\n"
     ]
    }
   ],
   "source": [
    "# List comp and count for 'sex' column\n",
    "\n",
    "sexes = [col[5] for col in data]\n",
    "\n",
    "sex_counts = {}\n",
    "\n",
    "for sex in sexes:\n",
    "    if sex not in sex_counts:\n",
    "        sex_counts[sex] = 1\n",
    "    else:\n",
    "        sex_counts[sex] += 1\n",
    "        \n",
    "print(sex_counts)"
   ]
  },
  {
   "cell_type": "code",
   "execution_count": 8,
   "metadata": {
    "collapsed": false
   },
   "outputs": [
    {
     "name": "stdout",
     "output_type": "stream",
     "text": [
      "{'Hispanic': 9022, 'Asian/Pacific Islander': 1326, 'White': 66237, 'Native American/Native Alaskan': 917, 'Black': 23296}\n"
     ]
    }
   ],
   "source": [
    "# List comp and count for 'race' column\n",
    "\n",
    "races = [col[7] for col in data]\n",
    "\n",
    "race_counts = {}\n",
    "\n",
    "for race in races:\n",
    "    if race not in race_counts:\n",
    "        race_counts[race] = 1\n",
    "    else:\n",
    "        race_counts[race] += 1\n",
    "        \n",
    "print(race_counts)"
   ]
  },
  {
   "cell_type": "code",
   "execution_count": 9,
   "metadata": {
    "collapsed": false
   },
   "outputs": [
    {
     "name": "stdout",
     "output_type": "stream",
     "text": [
      "[['Id', 'Year', 'Id', 'Sex', 'Id', 'Hispanic Origin', 'Id', 'Id2', 'Geography', 'Total', 'Race Alone - White', 'Race Alone - Hispanic', 'Race Alone - Black or African American', 'Race Alone - American Indian and Alaska Native', 'Race Alone - Asian', 'Race Alone - Native Hawaiian and Other Pacific Islander', 'Two or More Races'], ['cen42010', 'April 1, 2010 Census', 'totsex', 'Both Sexes', 'tothisp', 'Total', '0100000US', '', 'United States', '308745538', '197318956', '44618105', '40250635', '3739506', '15159516', '674625', '6984195']]\n"
     ]
    }
   ],
   "source": [
    "# Using census.csv\n",
    "\n",
    "j = open('census.csv')\n",
    "csvreader1 = csv.reader(j)\n",
    "census = list(csvreader1)\n",
    "\n",
    "print(census)"
   ]
  },
  {
   "cell_type": "code",
   "execution_count": 10,
   "metadata": {
    "collapsed": false
   },
   "outputs": [
    {
     "name": "stdout",
     "output_type": "stream",
     "text": [
      "[['cen42010', 'April 1, 2010 Census', 'totsex', 'Both Sexes', 'tothisp', 'Total', '0100000US', '', 'United States', '308745538', '197318956', '44618105', '40250635', '3739506', '15159516', '674625', '6984195']]\n"
     ]
    }
   ],
   "source": [
    "census = census[1:]\n",
    "\n",
    "print(census)"
   ]
  },
  {
   "cell_type": "code",
   "execution_count": 18,
   "metadata": {
    "collapsed": false
   },
   "outputs": [
    {
     "name": "stdout",
     "output_type": "stream",
     "text": [
      "{'Hispanic': 40250635, 'Asian/Pacific Islander': 6984195, 'White': 44618105, 'Native American/Native Alaskan': 15159516, 'Black': 3739506}\n"
     ]
    }
   ],
   "source": [
    "# Manual dictionary creation to blend census.csv data\n",
    "\n",
    "mapping = {\n",
    "    'Asian/Pacific Islander' : int(census[0][16]),\n",
    "    'Black' : int(census[0][13]),\n",
    "    'Native American/Native Alaskan' : int(census[0][14]),\n",
    "    'Hispanic' : int(census[0][12]),\n",
    "    'White' : int(census[0][11])\n",
    "}\n",
    "\n",
    "print(mapping)"
   ]
  },
  {
   "cell_type": "code",
   "execution_count": 34,
   "metadata": {
    "collapsed": false
   },
   "outputs": [
    {
     "name": "stdout",
     "output_type": "stream",
     "text": [
      "{'Hispanic': 241.26181, 'Asian/Pacific Islander': 35.45923, 'White': 1771.27674, 'Native American/Native Alaskan': 24.52196, 'Black': 622.96999}\n"
     ]
    }
   ],
   "source": [
    "race_per_hundredk = {}\n",
    "\n",
    "for race in race_counts:\n",
    "    val = race_counts[race]\n",
    "    \n",
    "    for mapp in mapping:\n",
    "        rate = round(((val / mapping[mapp]) * 100000), 5)\n",
    "        race_per_hundredk[race] = rate\n",
    "        \n",
    "print(race_per_hundredk)"
   ]
  },
  {
   "cell_type": "code",
   "execution_count": 35,
   "metadata": {
    "collapsed": false
   },
   "outputs": [
    {
     "name": "stdout",
     "output_type": "stream",
     "text": [
      "{'Hispanic': 150.66161, 'Asian/Pacific Islander': 14.9485, 'White': 244.6045, 'Native American/Native Alaskan': 8.71773, 'Black': 521.72667}\n"
     ]
    }
   ],
   "source": [
    "intents = [col[3] for col in data]\n",
    "races = [col[7] for col in data]\n",
    "\n",
    "homicide_race_counts = {}\n",
    "\n",
    "for i, race in enumerate(races):\n",
    "    if intents[i] == 'Homicide':\n",
    "        if race not in homicide_race_counts:\n",
    "            homicide_race_counts[race] = 1\n",
    "        else:\n",
    "            homicide_race_counts[race] += 1\n",
    "\n",
    "for count in homicide_race_counts:\n",
    "    val = homicide_race_counts[count]\n",
    "    \n",
    "    for mapp in mapping:\n",
    "        rate = round(((val / mapping[mapp]) * 100000), 5)\n",
    "        homicide_race_counts[count] = rate\n",
    "            \n",
    "print(homicide_race_counts)"
   ]
  },
  {
   "cell_type": "markdown",
   "metadata": {},
   "source": [
    "> Computing rates of gun deaths per race/homicide; filtering by intent column"
   ]
  },
  {
   "cell_type": "code",
   "execution_count": null,
   "metadata": {
    "collapsed": true
   },
   "outputs": [],
   "source": []
  }
 ],
 "metadata": {
  "kernelspec": {
   "display_name": "Python 3",
   "language": "python",
   "name": "python3"
  },
  "language_info": {
   "codemirror_mode": {
    "name": "ipython",
    "version": 3
   },
   "file_extension": ".py",
   "mimetype": "text/x-python",
   "name": "python",
   "nbconvert_exporter": "python",
   "pygments_lexer": "ipython3",
   "version": "3.4.3"
  }
 },
 "nbformat": 4,
 "nbformat_minor": 0
}
